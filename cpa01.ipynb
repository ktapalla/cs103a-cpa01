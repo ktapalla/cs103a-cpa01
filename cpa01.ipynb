{
 "cells": [
  {
   "cell_type": "markdown",
   "id": "5c096414-411a-4482-ac7e-774bdf682ed6",
   "metadata": {},
   "source": [
    "# Analysis of California Hospital Inpatient Mortality Rates 2016-2019"
   ]
  },
  {
   "cell_type": "markdown",
   "id": "4d40552e-5e94-4be9-a662-5c0969d11b6f",
   "metadata": {
    "tags": []
   },
   "source": [
    "INFO: \n",
    "* The dataset contains risk-adjusted mortality rates, quality ratings, and number of deaths and cases for 6 medical conditions treated (Acute Stroke, Acute Myocardial Infarction, Heart Failure, Gastrointestinal Hemorrhage, Hip Fracture and Pneumonia) and 5 procedures performed (Abdominal Aortic Aneurysm Repair, Carotid Endarterectomy, Esophageal Resection, Pancreatic Resection, Percutaneous Coronary Intervention) in California hospitals.\n",
    "* Dataset can be found at: \n",
    "    - https://catalog.data.gov/dataset/california-hospital-inpatient-mortality-rates-and-quality-ratings/resource/54ac2acc-f085-4b2d-9bf4-8368da30836e\n",
    "    - Click 'Download' button on the page to download the dataset \n",
    "\n",
    "QUESTIONS: \n",
    "\n",
    "* What are the overall mortality rates due to heart failure in each county between 2016-2019?\n",
    "    - Notes: Analysis of mortality rate for all cases of heart failure in the same county\n",
    "* Using data from the previous question, is there a discernable yearly trend/pattern in the mortality rates of the county with the highest overall mortality rate due to heart failure?\n",
    "    - Notes: Looks at heart failure mortality rates for each year of the county with the highest overall rate"
   ]
  },
  {
   "cell_type": "code",
   "execution_count": null,
   "id": "dc1ae0be-6766-42cb-935e-c6c0fbdb27a6",
   "metadata": {},
   "outputs": [],
   "source": [
    "import csv\n",
    "import pandas as pd\n",
    "import numpy as np\n",
    "import matplotlib.pyplot as plt\n"
   ]
  },
  {
   "cell_type": "code",
   "execution_count": null,
   "id": "f408bdbf-bd16-4031-97e0-342c35efabfe",
   "metadata": {},
   "outputs": [],
   "source": [
    "#Opens csv file and obtains data\n",
    "with open('2016-2019_CA_Hos_Inp_Mortality_Rates_and_Qual_Ratings.csv', 'r', encoding='utf-8') as csvfile:\n",
    "    reader = csv.DictReader(csvfile)\n",
    "    data = [row for row in reader]\n",
    "    csvfile.close()\n",
    "# print (len(data))\n",
    "data[0]"
   ]
  },
  {
   "cell_type": "code",
   "execution_count": null,
   "id": "98d6ce52-6aff-4ce3-ba2a-14faac212ba8",
   "metadata": {},
   "outputs": [],
   "source": [
    "#Converts a string to an int \n",
    "def toInt(str):\n",
    "    if str.isdigit():\n",
    "        return int(str)\n",
    "    else:\n",
    "        return 0"
   ]
  },
  {
   "cell_type": "code",
   "execution_count": null,
   "id": "0e728e2e-d7e4-4503-b76b-400af5b1a26d",
   "metadata": {},
   "outputs": [],
   "source": [
    "#Converts a string to a float\n",
    "def toFloat(str):\n",
    "    return float(str)\n",
    "f = toFloat(223)"
   ]
  },
  {
   "cell_type": "code",
   "execution_count": null,
   "id": "500a9fc8-9dd4-44ff-850c-9650b67138c7",
   "metadata": {},
   "outputs": [],
   "source": [
    "#Creates a list of data containing total # of Heart Failure related cases for desired county \n",
    "def totalHFCasesByCounty(county):\n",
    "    cData = [county]\n",
    "    # cData = []\n",
    "    for d in data:\n",
    "        if d['COUNTY'] == county and d['Procedure/Condition'] == 'Heart Failure':\n",
    "            cData += [d['# of Cases']]\n",
    "    return cData "
   ]
  },
  {
   "cell_type": "code",
   "execution_count": null,
   "id": "81f92b30-a923-4276-9494-9a05cbdc8819",
   "metadata": {},
   "outputs": [],
   "source": [
    "#Creates a list of data containing total # of Heart Failure related deaths for desired county \n",
    "def totalHFDeathsByCounty(county):\n",
    "    cData = [county]\n",
    "    # cData = []\n",
    "    for d in data:\n",
    "        if d['COUNTY'] == county and d['Procedure/Condition'] == 'Heart Failure':\n",
    "            cData += [d['# of Deaths']]\n",
    "    return cData "
   ]
  },
  {
   "cell_type": "code",
   "execution_count": null,
   "id": "b73b6be8-62ad-43c4-9e7c-c4bfb84ba5b1",
   "metadata": {},
   "outputs": [],
   "source": [
    "#Calculates Mortality Rate from a list of data\n",
    "def MortRateCalc(deaths, cases):\n",
    "    if cases == 0:\n",
    "        return 'N/A - No Cases Reported'\n",
    "    return float(\"{:.2f}\".format(float(deaths/cases) * 100))"
   ]
  },
  {
   "cell_type": "markdown",
   "id": "f8bac560-fbe4-4703-9adf-ba20840f3fd5",
   "metadata": {},
   "source": [
    "# Question 1"
   ]
  },
  {
   "cell_type": "markdown",
   "id": "876ad11f-239d-471d-b127-d68d4528904c",
   "metadata": {
    "tags": []
   },
   "source": [
    "# Matplot Vers."
   ]
  },
  {
   "cell_type": "code",
   "execution_count": null,
   "id": "9b8e532d-0dec-40dd-9de6-30c72f4f2ea2",
   "metadata": {},
   "outputs": [],
   "source": [
    "#Creates a list of counties, with each only listed once\n",
    "counties = {d['COUNTY'] for d in data}\n",
    "cList = list(counties)\n",
    "cList.sort()\n",
    "\n",
    "#Creates list containing info on heart failure cases and deaths by county and sorts them (alphabetical order by county)\n",
    "cHFCases = []\n",
    "cHFDeaths = []\n",
    "for count in counties:\n",
    "    cHFCases += [totalHFCasesByCounty(count)]\n",
    "    cHFDeaths += [totalHFDeathsByCounty(count)]\n",
    "cHFCases.sort()\n",
    "cHFDeaths.sort()\n",
    "# cHFCases\n",
    "# cHFDeaths\n"
   ]
  },
  {
   "cell_type": "code",
   "execution_count": null,
   "id": "49840b8c-455b-4c11-bb57-7f7fb83df749",
   "metadata": {},
   "outputs": [],
   "source": [
    "#Creates a list of totals for heart failure cases for each county (all cases for all hospitals for each county from all years)\n",
    "cTotalCases = []\n",
    "for cases in cHFCases:\n",
    "    sum = 0\n",
    "    for num in cases:\n",
    "        sum += toInt(num)\n",
    "    cTotalCases += [sum]\n",
    "# cTotalCases\n",
    "\n",
    "#Creates a list of totals for heart failure deaths for each county (all deaths for all hospitals for each county from all years)\n",
    "cTotalDeaths = []\n",
    "for cases in cHFDeaths:\n",
    "    sum = 0\n",
    "    for num in cases:\n",
    "        sum += toInt(num)\n",
    "    cTotalDeaths += [sum]\n",
    "# cTotalDeaths\n"
   ]
  },
  {
   "cell_type": "code",
   "execution_count": null,
   "id": "f1e554d9-f31c-4daa-b0f9-f387623e27c7",
   "metadata": {},
   "outputs": [],
   "source": [
    "#Creates a list of calculated mortality rates (all counties from all years)\n",
    "cMortRate = []\n",
    "for i in range(0, len(cTotalCases)):\n",
    "    cMortRate.append( toFloat(MortRateCalc(cTotalDeaths[i], cTotalCases[i])))\n",
    "# cMortRate\n"
   ]
  },
  {
   "cell_type": "code",
   "execution_count": null,
   "id": "fd7615a2-d744-41da-bc79-16f67c9fe747",
   "metadata": {},
   "outputs": [],
   "source": [
    "#Creates scatter plot based on overall County Heart Failure cases and deaths\n",
    "plt.figure(figsize=(30,10))\n",
    "plt.title('Heart Failure Related Cases by County', fontdict=None, loc='center', pad=None)\n",
    "plt.xlabel('Total Heart Failure Cases')\n",
    "plt.ylabel('Total Heart Failure Deaths')\n",
    "plt.scatter(cTotalCases, cTotalDeaths)\n",
    "plt.show()"
   ]
  },
  {
   "cell_type": "code",
   "execution_count": null,
   "id": "b9624dbf-9f5e-4226-9b8a-55f262db2d17",
   "metadata": {},
   "outputs": [],
   "source": [
    "#Creates bar graph of Overall Heart Failure Mortality Rates for all Counties (0-10% as they don't exceed 10%)\n",
    "plt.figure(figsize=(20,10), dpi = 100)\n",
    "plt.title('Heart Failure Mortality Rates by County')\n",
    "plt.ylim([0, 10])\n",
    "plt.xlabel('County')\n",
    "plt.xticks(rotation=90)\n",
    "plt.ylabel('Mortality Rate (%)')\n",
    "plt.bar(cList, cMortRate)\n",
    "plt.show()"
   ]
  },
  {
   "cell_type": "markdown",
   "id": "09f9e32a-8ca3-4ae1-802d-c2987c0500e3",
   "metadata": {
    "tags": []
   },
   "source": [
    "# Pandas/Numpy Vers. "
   ]
  },
  {
   "cell_type": "code",
   "execution_count": null,
   "id": "13fe00c5-7c5b-43de-971f-7bb9da4fcd02",
   "metadata": {},
   "outputs": [],
   "source": [
    "#Read data file; Get unique counties and years from dataframe\n",
    "df = pd.read_csv('2016-2019_CA_Hos_Inp_Mortality_Rates_and_Qual_Ratings.csv')\n",
    "pCounties = df['COUNTY'].unique()\n",
    "\n",
    "#Hides non-heart failure conditions \n",
    "df = df[df['Procedure/Condition'] == 'Heart Failure']\n",
    "# df\n"
   ]
  },
  {
   "cell_type": "code",
   "execution_count": null,
   "id": "bd6bcf00-67fa-450e-bb92-1d2fb51b00fa",
   "metadata": {},
   "outputs": [],
   "source": [
    "#Cleans data (converts values/holders so that 0s are read instead of periods)\n",
    "removePeriodsCases = df['# of Cases']\n",
    "removedListCases = []\n",
    "for p in removePeriodsCases:\n",
    "    if isinstance(p, float) or not p.isdigit():\n",
    "        p = '0'\n",
    "    removedListCases.append(p)\n",
    "\n",
    "removePeriodsDeaths = df['# of Deaths']\n",
    "removedListDeaths = []\n",
    "for p in removePeriodsDeaths:\n",
    "    if isinstance(p, float) or not p.isdigit():\n",
    "        p = '0'\n",
    "    removedListDeaths.append(p)\n"
   ]
  },
  {
   "cell_type": "code",
   "execution_count": null,
   "id": "149b4ad0-b7d9-408a-a673-d5b63ec5b71e",
   "metadata": {},
   "outputs": [],
   "source": [
    "#Deletes original columns and replaces them w/ copies containing cleaned data for better reading; Converts info from string to int types\n",
    "del df['# of Cases'] \n",
    "df.insert(7,'# of Cases',removedListCases)\n",
    "pd.set_option('display.max_rows', None)\n",
    "# df.reset_index(drop=True, inplace=True)\n",
    "df\n",
    "\n",
    "del df['# of Deaths'] \n",
    "df.insert(6,'# of Deaths',removedListDeaths)\n",
    "pd.set_option('display.max_rows', None)\n",
    "df.reset_index(drop=True, inplace=True)\n",
    "df\n",
    "\n",
    "df['# of Cases'] = df['# of Cases'].astype(int)\n",
    "df['# of Deaths'] = df['# of Deaths'].astype(int)\n",
    "\n",
    "df"
   ]
  },
  {
   "cell_type": "code",
   "execution_count": null,
   "id": "b84c2c3d-680c-4602-8ae7-1a22c144326b",
   "metadata": {},
   "outputs": [],
   "source": [
    "#Generates pivot table w/ final row/column consisiting of totals (Cases, Deaths) \n",
    "df1 = pd.pivot_table(data=df, values=['# of Cases','# of Deaths'], index=['COUNTY'], columns='YEAR',aggfunc=np.sum, fill_value=0, margins=True, margins_name='Total')\n",
    "df1.columns\n",
    "df1\n",
    "\n",
    "#Gets 'Total' columns for deaths and cases\n",
    "cbyCount = df1['# of Cases', 'Total']\n",
    "dbyCount = df1['# of Deaths', 'Total']\n",
    "\n",
    "#Creates a list of calculated Mortality Rates for each county (all years combined) and inserts list as a new column\n",
    "mortRate = []\n",
    "for ind in range(0, len(cbyCount)):\n",
    "    cDeaths = dbyCount[ind]\n",
    "    cCases = cbyCount[ind]\n",
    "    mr = MortRateCalc(cDeaths, cCases)\n",
    "    mortRate.append(mr)\n",
    "mortRate\n",
    "len(df1.columns)\n",
    "df1.insert(10, 'Mortality Rate (%)', mortRate)\n",
    "df1\n"
   ]
  },
  {
   "cell_type": "code",
   "execution_count": null,
   "id": "6b8c72e8-c97e-49ac-a7f1-fc69d002faf0",
   "metadata": {},
   "outputs": [],
   "source": [
    "#Creates a scatter plot showing number of deaths by cases for each county from 2016-2019 combined\n",
    "df1.plot.scatter(x='# of Cases', y='# of Deaths', s = 10, figsize=(10,10))\n",
    "plt.grid() \n",
    "plt.title('Deaths by Cases')\n",
    "plt.xlabel('Cases')\n",
    "plt.ylabel('Deaths')\n",
    "plt.show()\n"
   ]
  },
  {
   "cell_type": "code",
   "execution_count": null,
   "id": "540437ce-a8c5-4f76-84f5-211f0106b4bb",
   "metadata": {},
   "outputs": [],
   "source": [
    "#Creates a bar graph consisting of mortality rates for each county \n",
    "df1.plot.bar( y='Mortality Rate (%)', figsize=(18, 10))\n",
    "plt.show()\n"
   ]
  },
  {
   "cell_type": "code",
   "execution_count": null,
   "id": "3fc26b01-af38-4a32-b675-a634da3f825f",
   "metadata": {},
   "outputs": [],
   "source": [
    "df1.describe()"
   ]
  },
  {
   "cell_type": "code",
   "execution_count": null,
   "id": "aa1a71e9-2581-499f-ab30-4b0801435398",
   "metadata": {},
   "outputs": [],
   "source": [
    "list(df1.columns)"
   ]
  },
  {
   "cell_type": "code",
   "execution_count": null,
   "id": "f5c9a0f7-bb5c-4a4a-a1dd-b68a50f7db6d",
   "metadata": {},
   "outputs": [],
   "source": [
    "list(df1.index)"
   ]
  },
  {
   "cell_type": "code",
   "execution_count": null,
   "id": "d246d23b-f1a8-4b66-8f02-8ffc42c3a592",
   "metadata": {},
   "outputs": [],
   "source": [
    "#Gets Top 5 Counties with highest overall mortality rates \n",
    "df1 = df1.sort_values(['Mortality Rate (%)'], ascending=False).head(5)\n",
    "df1"
   ]
  },
  {
   "cell_type": "markdown",
   "id": "14bc0431-c4eb-4fed-8649-8c959d6a4dcf",
   "metadata": {},
   "source": [
    "# Question 2"
   ]
  },
  {
   "cell_type": "code",
   "execution_count": null,
   "id": "3ea7e66a-77a8-4a68-a8e9-d03088943f33",
   "metadata": {},
   "outputs": [],
   "source": [
    "#Creates a pivot table with yearly information for the county with the highest overall mortality rate (Lassen)\n",
    "df2 = df[df['COUNTY'] == 'Lassen']\n",
    "df2 = pd.pivot_table(data=df2, values=['# of Cases','# of Deaths'], index=['YEAR'])\n",
    "\n",
    "#Calculates the mortality rate for each year; adds as a column to pivot table\n",
    "yrDeaths = df2['# of Deaths']\n",
    "yrCases = df2['# of Cases']\n",
    "yrlyMortRate = []\n",
    "\n",
    "for ind in range(0, len(yrCases)):\n",
    "    yrlyMortRate.append(MortRateCalc(df2['# of Deaths'].iloc[ind], df2['# of Cases'].iloc[ind]))\n",
    "    \n",
    "df2.insert(2, 'Mortality Rate (%)', yrlyMortRate)\n",
    "df2\n"
   ]
  },
  {
   "cell_type": "code",
   "execution_count": null,
   "id": "c2326b23-41db-48eb-8c8b-5f8fe8ae5f8b",
   "metadata": {},
   "outputs": [],
   "source": [
    "#Plots a graph showing mortality rates the county with highest overall mortality rate (Lassen) for each year (2016-2019)\n",
    "plt.figure(figsize=(10, 10))\n",
    "x = np.linspace(2016, 2019, 4)\n",
    "plt.plot(x, df2['Mortality Rate (%)'], label='Mortality Rate 2016-2019')\n",
    "plt.xticks(x)\n",
    "plt.xlabel('Year')\n",
    "plt.ylabel('Mortality Rate (%)')\n",
    "plt.legend()\n",
    "plt.show()"
   ]
  },
  {
   "cell_type": "markdown",
   "id": "663a6145-88eb-4e5f-ad0c-d6e71ec6e010",
   "metadata": {},
   "source": [
    "# Discussion\n",
    "\n",
    "The analysis of the data provided by the csv file indicates that Lassen County had the highest overall mortality rate for Heart Failure cases between 2016 and 2019. The overall mortality rate between those years was 8.41%. Closer inspection of the data provided shows that there has been an increasing trend in the Heart Failure mortality rate in Lassen County for each year. While there is a slight dip from 2017 to 2018, the overall mortality rate rose from 0% in 2016 to approximately 16.67% in 2019."
   ]
  }
 ],
 "metadata": {
  "kernelspec": {
   "display_name": "Python 3 (ipykernel)",
   "language": "python",
   "name": "python3"
  },
  "language_info": {
   "codemirror_mode": {
    "name": "ipython",
    "version": 3
   },
   "file_extension": ".py",
   "mimetype": "text/x-python",
   "name": "python",
   "nbconvert_exporter": "python",
   "pygments_lexer": "ipython3",
   "version": "3.10.2"
  }
 },
 "nbformat": 4,
 "nbformat_minor": 5
}

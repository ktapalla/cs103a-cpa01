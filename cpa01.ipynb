{
 "cells": [
  {
   "cell_type": "code",
   "execution_count": null,
   "id": "51079d9d-e617-4675-944f-4b0819e256f0",
   "metadata": {},
   "outputs": [],
   "source": [
    "#Analysis of California Hospital Inpatient Mortality Rates and Quality Ratings in 2016-2019"
   ]
  },
  {
   "cell_type": "code",
   "execution_count": 1,
   "id": "dc1ae0be-6766-42cb-935e-c6c0fbdb27a6",
   "metadata": {},
   "outputs": [],
   "source": [
    "import csv\n",
    "import matplotlib.pyplot as plt"
   ]
  },
  {
   "cell_type": "code",
   "execution_count": 7,
   "id": "f408bdbf-bd16-4031-97e0-342c35efabfe",
   "metadata": {},
   "outputs": [
    {
     "name": "stdout",
     "output_type": "stream",
     "text": [
      "19902\n"
     ]
    },
    {
     "data": {
      "text/plain": [
       "{'YEAR': '2016',\n",
       " 'COUNTY': 'AAAA',\n",
       " 'HOSPITAL': 'STATEWIDE',\n",
       " 'OSHPDID': 'None',\n",
       " 'Procedure/Condition': 'AMI',\n",
       " 'Risk Adjuested Mortality Rate': '6.1',\n",
       " '# of Deaths': '3178',\n",
       " '# of Cases': '52167',\n",
       " 'Hospital Ratings': 'None',\n",
       " 'LONGITUDE': 'None',\n",
       " 'LATITUDE': 'None'}"
      ]
     },
     "execution_count": 7,
     "metadata": {},
     "output_type": "execute_result"
    }
   ],
   "source": [
    "with open('2016-2019_CA_Hos_Inp_Mortality_Rates_and_Qual_Ratings.csv', 'r', encoding='utf-8') as csvfile:\n",
    "    reader = csv.DictReader(csvfile)\n",
    "    data = [row for row in reader]\n",
    "    csvfile.close()\n",
    "print (len(data))\n",
    "data[1]"
   ]
  },
  {
   "cell_type": "code",
   "execution_count": 8,
   "id": "98d6ce52-6aff-4ce3-ba2a-14faac212ba8",
   "metadata": {},
   "outputs": [
    {
     "ename": "ValueError",
     "evalue": "invalid literal for int() with base 10: '.'",
     "output_type": "error",
     "traceback": [
      "\u001b[0;31m---------------------------------------------------------------------------\u001b[0m",
      "\u001b[0;31mValueError\u001b[0m                                Traceback (most recent call last)",
      "Input \u001b[0;32mIn [8]\u001b[0m, in \u001b[0;36m<cell line: 1>\u001b[0;34m()\u001b[0m\n\u001b[0;32m----> 1\u001b[0m deaths \u001b[38;5;241m=\u001b[39m [\u001b[38;5;28mint\u001b[39m(d[\u001b[38;5;124m'\u001b[39m\u001b[38;5;124m# of Deaths\u001b[39m\u001b[38;5;124m'\u001b[39m])\u001b[38;5;28;01mfor\u001b[39;00m d \u001b[38;5;129;01min\u001b[39;00m data]\n\u001b[1;32m      2\u001b[0m gdp\n",
      "Input \u001b[0;32mIn [8]\u001b[0m, in \u001b[0;36m<listcomp>\u001b[0;34m(.0)\u001b[0m\n\u001b[0;32m----> 1\u001b[0m deaths \u001b[38;5;241m=\u001b[39m [\u001b[38;5;28;43mint\u001b[39;49m\u001b[43m(\u001b[49m\u001b[43md\u001b[49m\u001b[43m[\u001b[49m\u001b[38;5;124;43m'\u001b[39;49m\u001b[38;5;124;43m# of Deaths\u001b[39;49m\u001b[38;5;124;43m'\u001b[39;49m\u001b[43m]\u001b[49m\u001b[43m)\u001b[49m\u001b[38;5;28;01mfor\u001b[39;00m d \u001b[38;5;129;01min\u001b[39;00m data]\n\u001b[1;32m      2\u001b[0m gdp\n",
      "\u001b[0;31mValueError\u001b[0m: invalid literal for int() with base 10: '.'"
     ]
    }
   ],
   "source": [
    "def toInt(str):\n",
    "    if str == \n",
    "deaths = [int(d['# of Deaths'])for d in data]\n",
    "gdp             "
   ]
  },
  {
   "cell_type": "code",
   "execution_count": null,
   "id": "d9b4c557-759e-46ea-a32c-67c232c399d9",
   "metadata": {},
   "outputs": [],
   "source": []
  }
 ],
 "metadata": {
  "kernelspec": {
   "display_name": "Python 3 (ipykernel)",
   "language": "python",
   "name": "python3"
  },
  "language_info": {
   "codemirror_mode": {
    "name": "ipython",
    "version": 3
   },
   "file_extension": ".py",
   "mimetype": "text/x-python",
   "name": "python",
   "nbconvert_exporter": "python",
   "pygments_lexer": "ipython3",
   "version": "3.10.2"
  }
 },
 "nbformat": 4,
 "nbformat_minor": 5
}
